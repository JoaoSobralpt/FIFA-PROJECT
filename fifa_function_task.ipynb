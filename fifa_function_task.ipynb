{
 "cells": [
  {
   "cell_type": "code",
   "execution_count": 1,
   "metadata": {},
   "outputs": [],
   "source": [
    "# importing all the required libraries\n",
    "import pandas as pd\n",
    "import numpy as np\n",
    "import math\n",
    "from sklearn import linear_model\n",
    "\n",
    "import seaborn as sns \n",
    "import matplotlib.pyplot as plt\n",
    "%matplotlib inline\n",
    "import matplotlib\n",
    "import pickle"
   ]
  },
  {
   "cell_type": "code",
   "execution_count": 2,
   "metadata": {
    "scrolled": false
   },
   "outputs": [],
   "source": [
    "# # importing the data file\n",
    "df= pd.read_csv(\"fifa21_validate.csv\")\n",
    "\n",
    "pd.set_option('display.max_columns', None)"
   ]
  },
  {
   "cell_type": "code",
   "execution_count": 3,
   "metadata": {},
   "outputs": [],
   "source": [
    "# pickle.dump(MinMaxtransformer, open('scalar.pkl', 'wb'))\n",
    "# pickle.dump(encoder, open('encoder.pkl', 'wb'))\n",
    "# pickle.dump(lm, open('model.pkl', 'wb'))"
   ]
  },
  {
   "cell_type": "code",
   "execution_count": 4,
   "metadata": {},
   "outputs": [],
   "source": [
    "scalar=pickle.load(open('scalar.pkl','rb'))\n",
    "lm=pickle.load(open('model.pkl','rb'))\n",
    "encoder=pickle.load(open('encoder.pkl','rb'))"
   ]
  },
  {
   "cell_type": "code",
   "execution_count": 5,
   "metadata": {},
   "outputs": [],
   "source": [
    "def convert_currency(currency_str):\n",
    "    if currency_str.endswith('K'):\n",
    "        return float(currency_str[1:-1]) * 1000\n",
    "    elif currency_str.endswith('M'):\n",
    "        return float(currency_str[1:-1]) * 1000000\n",
    "    else:\n",
    "        return float(currency_str[1:])"
   ]
  },
  {
   "cell_type": "code",
   "execution_count": 6,
   "metadata": {
    "scrolled": true
   },
   "outputs": [
    {
     "name": "stdout",
     "output_type": "stream",
     "text": [
      "r2_score 0.9134206872323922\n",
      "rmse 1.9904767217250137\n",
      "mae 1.5492426388975737\n",
      "MSE 3.96\n"
     ]
    },
    {
     "name": "stderr",
     "output_type": "stream",
     "text": [
      "C:\\Users\\ABHIRAM\\anaconda3\\lib\\site-packages\\sklearn\\base.py:493: FutureWarning: The feature names should match those that were passed during fit. Starting version 1.2, an error will be raised.\n",
      "Feature names unseen at fit time:\n",
      "- st\n",
      "Feature names seen at fit time, yet now missing:\n",
      "- state\n",
      "\n",
      "  warnings.warn(message, FutureWarning)\n",
      "C:\\Users\\ABHIRAM\\anaconda3\\lib\\site-packages\\sklearn\\base.py:493: FutureWarning: The feature names should match those that were passed during fit. Starting version 1.2, an error will be raised.\n",
      "Feature names unseen at fit time:\n",
      "- st\n",
      "Feature names seen at fit time, yet now missing:\n",
      "- state\n",
      "\n",
      "  warnings.warn(message, FutureWarning)\n"
     ]
    }
   ],
   "source": [
    "def preprocess(df):\n",
    "    df.columns= [col.lower() for col in df.columns]\n",
    "#     df = df.drop_duplicates()\n",
    "    df['value'] = df['value'].apply(convert_currency)\n",
    "    df['wage'] = df['wage'].apply(convert_currency)\n",
    "    df['release clause'] = df['release clause'].apply(convert_currency)\n",
    "    \n",
    "    df=df.drop(['team & contract'], axis=1)\n",
    "\n",
    "    df['hits'] = pd.to_numeric(df['hits'], errors='coerce', downcast='integer')\n",
    "\n",
    "    \n",
    "    columns = ['ls', 'st', 'rs', 'lw', 'lf', 'cf', 'rf', 'rw', 'lam', 'cam', 'ram', 'lm', 'lcm', 'cm', 'rcm',\n",
    "           'rm', 'lwb', 'ldm', 'cdm', 'rdm', 'rwb', 'lb', 'lcb', 'cb', 'rcb', 'rb','gk']\n",
    "\n",
    "\n",
    "    for colmun in columns: # for itertion of columns\n",
    "        df[colmun] = df[colmun].str.split('+',expand=True)[0] # Split of string\n",
    "        df[colmun] = df[colmun].str.split('-',expand=True)[0]\n",
    "    \n",
    "    for column in columns:\n",
    "        df[column] = pd.to_numeric(df[column], errors='coerce', downcast='float')\n",
    "        \n",
    "    df_c=df.select_dtypes(include = np.object)\n",
    "    \n",
    "    column_modes = df_c.mode().iloc[0] \n",
    "    df_c = df_c.fillna(column_modes)\n",
    "        \n",
    "    columns_to_delete = ['name','nationality','club','position','height', 'weight','joined','loan date end','contract']\n",
    "\n",
    "    df_c.drop(columns=columns_to_delete, inplace=True)\n",
    "    \n",
    "    df_n=df.select_dtypes(include = np.number)\n",
    "    df_n=df_n.drop(['id'], axis=1)\n",
    "    column_means = df_n.mean()\n",
    "\n",
    "# Fill NaN values with column means\n",
    "    df_n.fillna(column_means, inplace=True)\n",
    "    \n",
    "    \n",
    "    df=pd.concat([df_c,df_n], axis=1)\n",
    "\n",
    "\n",
    "    #separate the features from the labels\n",
    "    y = df['ova']\n",
    "    X = df.drop(['ova'], axis=1)\n",
    "    \n",
    "    #categorical features and numerical ones are going to be treated differently\n",
    "    X_num = X.select_dtypes(include = np.number)\n",
    "    X_cat = X.select_dtypes(include = object)\n",
    "    \n",
    "\n",
    "    \n",
    "    from sklearn.preprocessing import MinMaxScaler\n",
    "    X_normalized = scalar.transform(X_num)\n",
    "    X_normalized = pd.DataFrame(X_normalized,columns=X_num.columns)\n",
    "\n",
    "    #one hot encoding is a way to turn categorical variables into multiple numerical columns\n",
    "    from sklearn.preprocessing import OneHotEncoder    \n",
    "    cols = encoder.get_feature_names_out(input_features=X_cat.columns)\n",
    "    X_cat_encode = pd.DataFrame(encoder.transform(X_cat).toarray(),columns=cols)\n",
    "\n",
    "\n",
    "    # concatinating the normalised and encoded data\n",
    "    X = pd.concat([X_normalized,X_cat_encode], axis=1)  # np.concatenate()\n",
    "    X\n",
    "\n",
    "\n",
    "    from sklearn.metrics import mean_absolute_error, r2_score  \n",
    "    # r2 score\n",
    "    predictions = lm.predict(X)\n",
    "    print(\"r2_score\",r2_score(y, predictions))\n",
    "   \n",
    "    \n",
    "    from sklearn.metrics import mean_squared_error\n",
    "    # RMSE\n",
    "    rmse = np.sqrt(mean_squared_error(y,predictions))\n",
    "    print(\"rmse\",rmse)\n",
    "\n",
    "    #MAE \n",
    "    mae = mean_absolute_error(y, predictions)\n",
    "    print(\"mae\",mae)\n",
    "\n",
    "    MSE = mean_squared_error(y,predictions)\n",
    "    print(\"MSE\",MSE.round(2))\n",
    "          \n",
    "    \n",
    "    return df\n",
    "    \n",
    "    \n",
    "d1=preprocess(df)    "
   ]
  },
  {
   "cell_type": "code",
   "execution_count": 9,
   "metadata": {},
   "outputs": [],
   "source": [
    "# pickle.dump(scaler, open('scaler.pkl', 'wb'))\n",
    "\n",
    "# pickle.load(open('scaler.pkl','rb'))"
   ]
  }
 ],
 "metadata": {
  "kernelspec": {
   "display_name": "Python 3",
   "language": "python",
   "name": "python3"
  },
  "language_info": {
   "codemirror_mode": {
    "name": "ipython",
    "version": 3
   },
   "file_extension": ".py",
   "mimetype": "text/x-python",
   "name": "python",
   "nbconvert_exporter": "python",
   "pygments_lexer": "ipython3",
   "version": "3.8.5"
  }
 },
 "nbformat": 4,
 "nbformat_minor": 4
}
